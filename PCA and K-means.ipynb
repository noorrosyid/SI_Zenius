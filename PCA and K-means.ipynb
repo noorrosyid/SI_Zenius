{
 "cells": [
  {
   "cell_type": "markdown",
   "id": "1854e224",
   "metadata": {},
   "source": [
    "## Unsupervised ML Python Homework"
   ]
  },
  {
   "cell_type": "code",
   "execution_count": 254,
   "id": "19e2e47b",
   "metadata": {},
   "outputs": [],
   "source": [
    "import numpy as np\n",
    "import pandas as pd\n",
    "import sklearn\n",
    "import sys\n",
    "import warnings\n",
    "import os\n",
    "if not sys.warnoptions:\n",
    "    warnings.simplefilter(\"ignore\")\n",
    "    os.environ[\"PYTHONWARNINGS\"] = \"ignore\" \n",
    "\n",
    "import matplotlib.pyplot as plt\n",
    "import seaborn as sns\n",
    "import time\n",
    "\n",
    "\n",
    "from sklearn.decomposition import PCA\n",
    "\n",
    "import numpy as np\n",
    "import pandas as pd\n",
    "\n",
    "from sklearn.cluster import KMeans\n",
    "from sklearn.metrics import silhouette_samples, silhouette_score\n",
    "\n",
    "import factor_analyzer\n",
    "from factor_analyzer import FactorAnalyzer\n",
    "\n",
    "import tensorflow as tf\n",
    "from tensorflow import keras\n",
    "\n",
    "import matplotlib.pyplot as plt\n",
    "import matplotlib.cm as cm\n",
    "import seaborn as sns"
   ]
  },
  {
   "cell_type": "code",
   "execution_count": 272,
   "id": "4ee45efc",
   "metadata": {},
   "outputs": [],
   "source": [
    "data = pd.read_csv('unsupervised_ml_homework_data.csv')"
   ]
  },
  {
   "cell_type": "code",
   "execution_count": 273,
   "id": "0d927b34",
   "metadata": {},
   "outputs": [
    {
     "name": "stdout",
     "output_type": "stream",
     "text": [
      "<class 'pandas.core.frame.DataFrame'>\n",
      "RangeIndex: 1000 entries, 0 to 999\n",
      "Data columns (total 20 columns):\n",
      " #   Column  Non-Null Count  Dtype  \n",
      "---  ------  --------------  -----  \n",
      " 0   0       1000 non-null   float64\n",
      " 1   1       1000 non-null   float64\n",
      " 2   2       1000 non-null   float64\n",
      " 3   3       1000 non-null   float64\n",
      " 4   4       1000 non-null   float64\n",
      " 5   5       1000 non-null   float64\n",
      " 6   6       1000 non-null   float64\n",
      " 7   7       1000 non-null   float64\n",
      " 8   8       1000 non-null   float64\n",
      " 9   9       1000 non-null   float64\n",
      " 10  10      1000 non-null   float64\n",
      " 11  11      1000 non-null   float64\n",
      " 12  12      1000 non-null   float64\n",
      " 13  13      1000 non-null   float64\n",
      " 14  14      1000 non-null   float64\n",
      " 15  15      1000 non-null   float64\n",
      " 16  16      1000 non-null   float64\n",
      " 17  17      1000 non-null   float64\n",
      " 18  18      1000 non-null   float64\n",
      " 19  19      1000 non-null   float64\n",
      "dtypes: float64(20)\n",
      "memory usage: 156.4 KB\n"
     ]
    }
   ],
   "source": [
    "data.info()"
   ]
  },
  {
   "cell_type": "markdown",
   "id": "5d57c5f6",
   "metadata": {},
   "source": [
    "### Soal 1: PCA"
   ]
  },
  {
   "cell_type": "markdown",
   "id": "814b4ae8",
   "metadata": {},
   "source": [
    "Instruksi:\n",
    "1. Lakukan PCA pada data yang telah di-import di cell atas.\n",
    "2. Ketentuan PCA: Ambil sampai threshold explained variancenya 0.8 (80%)\n",
    "3. Berapa Principal Components yang diambil?\n",
    "4. Simpan data hasil PCA karena data hasil PCA ini akan digunakan di Soal 2: K-Means"
   ]
  },
  {
   "cell_type": "code",
   "execution_count": 274,
   "id": "9c52d86d",
   "metadata": {},
   "outputs": [
    {
     "data": {
      "text/plain": [
       "(1000, 20)"
      ]
     },
     "execution_count": 274,
     "metadata": {},
     "output_type": "execute_result"
    }
   ],
   "source": [
    "data.shape"
   ]
  },
  {
   "cell_type": "code",
   "execution_count": 279,
   "id": "0ff306a9",
   "metadata": {},
   "outputs": [],
   "source": [
    "from sklearn.decomposition import PCA\n",
    "pca_85 = PCA(0.85)\n",
    "pca_85.fit(data)\n",
    "x_train_pca_85 = pca_85.transform(data)"
   ]
  },
  {
   "cell_type": "code",
   "execution_count": 280,
   "id": "5868132f",
   "metadata": {},
   "outputs": [
    {
     "data": {
      "text/plain": [
       "14"
      ]
     },
     "execution_count": 280,
     "metadata": {},
     "output_type": "execute_result"
    }
   ],
   "source": [
    "pca_85.n_components_"
   ]
  },
  {
   "cell_type": "markdown",
   "id": "9c6df7f2",
   "metadata": {},
   "source": [
    "Hanya tersisa: 14 feature columns setelah dlakukan PCA. Ternyata, untuk mencapai 85% explained variance, hanya dibutuhkan 14 kolom. Padahal, sebelumnya, data kita awalnya memiliki lebih dari 20 kolom!"
   ]
  },
  {
   "cell_type": "code",
   "execution_count": 282,
   "id": "6a8ecd0d",
   "metadata": {},
   "outputs": [
    {
     "data": {
      "image/png": "[encoded data removed]",
      "text/plain": [
       "<Figure size 432x288 with 1 Axes>"
      ]
     },
     "metadata": {
      "needs_background": "light"
     },
     "output_type": "display_data"
    }
   ],
   "source": [
    "# visualisasi dari pca 85\n",
    "plt.plot(np.cumsum(pca_85.explained_variance_ratio_))\n",
    "plt.show()"
   ]
  },
  {
   "cell_type": "code",
   "execution_count": 284,
   "id": "f8136de2",
   "metadata": {},
   "outputs": [
    {
     "data": {
      "text/plain": [
       "array([[  4.48923944,  23.38882165,  -1.24532729, ...,   1.17611271,\n",
       "          3.16278081,   9.61650588],\n",
       "       [-16.92757929, -21.7200057 ,   0.45323566, ...,   4.2437332 ,\n",
       "         -7.04060079,   2.1188578 ],\n",
       "       [ 29.58543855,  -0.36706455,   8.00933071, ...,  -8.35669067,\n",
       "         -7.11062115,   2.4574361 ],\n",
       "       ...,\n",
       "       [ 23.5152475 ,   2.27117471,   5.06803993, ...,  -5.32223406,\n",
       "         17.37544206,  12.75136281],\n",
       "       [ 32.73031492,  -4.06932209,  10.02554988, ...,   2.83465778,\n",
       "          0.47882131,  -5.39759754],\n",
       "       [-16.00692247,  16.37007392,  -6.46781205, ...,   0.74180138,\n",
       "          1.81046739,  -4.90428894]])"
      ]
     },
     "execution_count": 284,
     "metadata": {},
     "output_type": "execute_result"
    }
   ],
   "source": [
    "x_train_pca_85"
   ]
  },
  {
   "cell_type": "code",
   "execution_count": 286,
   "id": "82000e61",
   "metadata": {},
   "outputs": [
    {
     "data": {
      "text/plain": [
       "array([[  4.48923944,  23.38882165,  -1.24532729, ...,   1.17611271,\n",
       "          3.16278081,   9.61650588],\n",
       "       [-16.92757929, -21.7200057 ,   0.45323566, ...,   4.2437332 ,\n",
       "         -7.04060079,   2.1188578 ],\n",
       "       [ 29.58543855,  -0.36706455,   8.00933071, ...,  -8.35669067,\n",
       "         -7.11062115,   2.4574361 ],\n",
       "       ...,\n",
       "       [ 23.5152475 ,   2.27117471,   5.06803993, ...,  -5.32223406,\n",
       "         17.37544206,  12.75136281],\n",
       "       [ 32.73031492,  -4.06932209,  10.02554988, ...,   2.83465778,\n",
       "          0.47882131,  -5.39759754],\n",
       "       [-16.00692247,  16.37007392,  -6.46781205, ...,   0.74180138,\n",
       "          1.81046739,  -4.90428894]])"
      ]
     },
     "execution_count": 286,
     "metadata": {},
     "output_type": "execute_result"
    }
   ],
   "source": [
    "x_train_pca_85"
   ]
  },
  {
   "cell_type": "code",
   "execution_count": 289,
   "id": "02f46721",
   "metadata": {},
   "outputs": [
    {
     "data": {
      "text/plain": [
       "(1000, 14)"
      ]
     },
     "execution_count": 289,
     "metadata": {},
     "output_type": "execute_result"
    }
   ],
   "source": [
    "x_train_pca_85.shape"
   ]
  },
  {
   "cell_type": "markdown",
   "id": "3811b3d1",
   "metadata": {},
   "source": [
    "##### Jawab: Hasil PCA adalah mengambil 14 Principal Components."
   ]
  },
  {
   "cell_type": "markdown",
   "id": "9d628c85",
   "metadata": {},
   "source": [
    "### Soal 2: K Means"
   ]
  },
  {
   "cell_type": "markdown",
   "id": "9e172fc0",
   "metadata": {},
   "source": [
    "Instruksi:\n",
    "1. Dari data yang sudah di-PCA-kan (jadi datanya sudah baru ya, bukan data original lagi, ingat, data yang sudah di-PCA-kan), kita akan menentukan k = ?? yang paling ideal untuk clustering.\n",
    "2. Lakukan Elbow dan Silhouette method\n",
    "3. Visualisasikan hasil Elbow dan Silhouette method\n",
    "4. Berapa nilai k yang terbaik? "
   ]
  },
  {
   "cell_type": "code",
   "execution_count": 290,
   "id": "0e53a832",
   "metadata": {},
   "outputs": [
    {
     "data": {
      "text/html": [
       "<div>\n",
       "<style scoped>\n",
       "    .dataframe tbody tr th:only-of-type {\n",
       "        vertical-align: middle;\n",
       "    }\n",
       "\n",
       "    .dataframe tbody tr th {\n",
       "        vertical-align: top;\n",
       "    }\n",
       "\n",
       "    .dataframe thead th {\n",
       "        text-align: right;\n",
       "    }\n",
       "</style>\n",
       "<table border=\"1\" class=\"dataframe\">\n",
       "  <thead>\n",
       "    <tr style=\"text-align: right;\">\n",
       "      <th></th>\n",
       "      <th>0</th>\n",
       "      <th>1</th>\n",
       "      <th>2</th>\n",
       "      <th>3</th>\n",
       "      <th>4</th>\n",
       "      <th>5</th>\n",
       "      <th>6</th>\n",
       "      <th>7</th>\n",
       "      <th>8</th>\n",
       "      <th>9</th>\n",
       "      <th>10</th>\n",
       "      <th>11</th>\n",
       "      <th>12</th>\n",
       "      <th>13</th>\n",
       "    </tr>\n",
       "  </thead>\n",
       "  <tbody>\n",
       "    <tr>\n",
       "      <th>0</th>\n",
       "      <td>4.489239</td>\n",
       "      <td>23.388822</td>\n",
       "      <td>-1.245327</td>\n",
       "      <td>-0.604663</td>\n",
       "      <td>7.168715</td>\n",
       "      <td>12.140433</td>\n",
       "      <td>-2.606712</td>\n",
       "      <td>-2.982270</td>\n",
       "      <td>-1.240097</td>\n",
       "      <td>0.661235</td>\n",
       "      <td>3.653253</td>\n",
       "      <td>1.176113</td>\n",
       "      <td>3.162781</td>\n",
       "      <td>9.616506</td>\n",
       "    </tr>\n",
       "    <tr>\n",
       "      <th>1</th>\n",
       "      <td>-16.927579</td>\n",
       "      <td>-21.720006</td>\n",
       "      <td>0.453236</td>\n",
       "      <td>-2.092276</td>\n",
       "      <td>-1.854185</td>\n",
       "      <td>8.105598</td>\n",
       "      <td>0.857659</td>\n",
       "      <td>2.890713</td>\n",
       "      <td>0.310611</td>\n",
       "      <td>-0.045326</td>\n",
       "      <td>-4.492495</td>\n",
       "      <td>4.243733</td>\n",
       "      <td>-7.040601</td>\n",
       "      <td>2.118858</td>\n",
       "    </tr>\n",
       "    <tr>\n",
       "      <th>2</th>\n",
       "      <td>29.585439</td>\n",
       "      <td>-0.367065</td>\n",
       "      <td>8.009331</td>\n",
       "      <td>3.564103</td>\n",
       "      <td>3.851260</td>\n",
       "      <td>1.446380</td>\n",
       "      <td>8.451138</td>\n",
       "      <td>-9.789632</td>\n",
       "      <td>-3.855225</td>\n",
       "      <td>-1.684923</td>\n",
       "      <td>-3.405300</td>\n",
       "      <td>-8.356691</td>\n",
       "      <td>-7.110621</td>\n",
       "      <td>2.457436</td>\n",
       "    </tr>\n",
       "    <tr>\n",
       "      <th>3</th>\n",
       "      <td>-18.107060</td>\n",
       "      <td>-8.676266</td>\n",
       "      <td>-0.009083</td>\n",
       "      <td>9.928400</td>\n",
       "      <td>2.647460</td>\n",
       "      <td>-2.341457</td>\n",
       "      <td>4.218565</td>\n",
       "      <td>1.104390</td>\n",
       "      <td>-2.239445</td>\n",
       "      <td>-1.504301</td>\n",
       "      <td>3.573772</td>\n",
       "      <td>-18.724099</td>\n",
       "      <td>1.837367</td>\n",
       "      <td>0.536196</td>\n",
       "    </tr>\n",
       "    <tr>\n",
       "      <th>4</th>\n",
       "      <td>-19.133698</td>\n",
       "      <td>-13.345589</td>\n",
       "      <td>-5.568956</td>\n",
       "      <td>-6.848398</td>\n",
       "      <td>-5.305273</td>\n",
       "      <td>-10.130572</td>\n",
       "      <td>-9.445192</td>\n",
       "      <td>0.368672</td>\n",
       "      <td>-7.123532</td>\n",
       "      <td>-2.462980</td>\n",
       "      <td>2.651811</td>\n",
       "      <td>-6.460466</td>\n",
       "      <td>4.975422</td>\n",
       "      <td>4.145147</td>\n",
       "    </tr>\n",
       "    <tr>\n",
       "      <th>...</th>\n",
       "      <td>...</td>\n",
       "      <td>...</td>\n",
       "      <td>...</td>\n",
       "      <td>...</td>\n",
       "      <td>...</td>\n",
       "      <td>...</td>\n",
       "      <td>...</td>\n",
       "      <td>...</td>\n",
       "      <td>...</td>\n",
       "      <td>...</td>\n",
       "      <td>...</td>\n",
       "      <td>...</td>\n",
       "      <td>...</td>\n",
       "      <td>...</td>\n",
       "    </tr>\n",
       "    <tr>\n",
       "      <th>995</th>\n",
       "      <td>-27.596745</td>\n",
       "      <td>-5.675153</td>\n",
       "      <td>1.037456</td>\n",
       "      <td>2.060439</td>\n",
       "      <td>12.357932</td>\n",
       "      <td>-1.168417</td>\n",
       "      <td>-5.429511</td>\n",
       "      <td>-7.116851</td>\n",
       "      <td>2.629224</td>\n",
       "      <td>-3.142956</td>\n",
       "      <td>2.621997</td>\n",
       "      <td>-0.400097</td>\n",
       "      <td>0.836853</td>\n",
       "      <td>-1.590214</td>\n",
       "    </tr>\n",
       "    <tr>\n",
       "      <th>996</th>\n",
       "      <td>-25.101230</td>\n",
       "      <td>-16.880265</td>\n",
       "      <td>-2.327276</td>\n",
       "      <td>0.339001</td>\n",
       "      <td>-0.856307</td>\n",
       "      <td>7.415144</td>\n",
       "      <td>3.238225</td>\n",
       "      <td>4.557121</td>\n",
       "      <td>-0.463356</td>\n",
       "      <td>-7.809110</td>\n",
       "      <td>3.039680</td>\n",
       "      <td>6.374570</td>\n",
       "      <td>-3.569220</td>\n",
       "      <td>-3.465001</td>\n",
       "    </tr>\n",
       "    <tr>\n",
       "      <th>997</th>\n",
       "      <td>23.515248</td>\n",
       "      <td>2.271175</td>\n",
       "      <td>5.068040</td>\n",
       "      <td>1.014359</td>\n",
       "      <td>12.138911</td>\n",
       "      <td>0.638384</td>\n",
       "      <td>-5.087893</td>\n",
       "      <td>-0.279657</td>\n",
       "      <td>1.870682</td>\n",
       "      <td>1.883865</td>\n",
       "      <td>-1.320213</td>\n",
       "      <td>-5.322234</td>\n",
       "      <td>17.375442</td>\n",
       "      <td>12.751363</td>\n",
       "    </tr>\n",
       "    <tr>\n",
       "      <th>998</th>\n",
       "      <td>32.730315</td>\n",
       "      <td>-4.069322</td>\n",
       "      <td>10.025550</td>\n",
       "      <td>0.286854</td>\n",
       "      <td>-16.406983</td>\n",
       "      <td>-5.374449</td>\n",
       "      <td>9.337272</td>\n",
       "      <td>5.613491</td>\n",
       "      <td>-0.188005</td>\n",
       "      <td>-8.060883</td>\n",
       "      <td>3.080424</td>\n",
       "      <td>2.834658</td>\n",
       "      <td>0.478821</td>\n",
       "      <td>-5.397598</td>\n",
       "    </tr>\n",
       "    <tr>\n",
       "      <th>999</th>\n",
       "      <td>-16.006922</td>\n",
       "      <td>16.370074</td>\n",
       "      <td>-6.467812</td>\n",
       "      <td>5.820928</td>\n",
       "      <td>1.882635</td>\n",
       "      <td>7.485633</td>\n",
       "      <td>2.270965</td>\n",
       "      <td>0.355526</td>\n",
       "      <td>-8.975090</td>\n",
       "      <td>-6.109662</td>\n",
       "      <td>6.446929</td>\n",
       "      <td>0.741801</td>\n",
       "      <td>1.810467</td>\n",
       "      <td>-4.904289</td>\n",
       "    </tr>\n",
       "  </tbody>\n",
       "</table>\n",
       "<p>1000 rows × 14 columns</p>\n",
       "</div>"
      ],
      "text/plain": [
       "            0          1          2         3          4          5   \\\n",
       "0     4.489239  23.388822  -1.245327 -0.604663   7.168715  12.140433   \n",
       "1   -16.927579 -21.720006   0.453236 -2.092276  -1.854185   8.105598   \n",
       "2    29.585439  -0.367065   8.009331  3.564103   3.851260   1.446380   \n",
       "3   -18.107060  -8.676266  -0.009083  9.928400   2.647460  -2.341457   \n",
       "4   -19.133698 -13.345589  -5.568956 -6.848398  -5.305273 -10.130572   \n",
       "..         ...        ...        ...       ...        ...        ...   \n",
       "995 -27.596745  -5.675153   1.037456  2.060439  12.357932  -1.168417   \n",
       "996 -25.101230 -16.880265  -2.327276  0.339001  -0.856307   7.415144   \n",
       "997  23.515248   2.271175   5.068040  1.014359  12.138911   0.638384   \n",
       "998  32.730315  -4.069322  10.025550  0.286854 -16.406983  -5.374449   \n",
       "999 -16.006922  16.370074  -6.467812  5.820928   1.882635   7.485633   \n",
       "\n",
       "           6         7         8         9         10         11         12  \\\n",
       "0   -2.606712 -2.982270 -1.240097  0.661235  3.653253   1.176113   3.162781   \n",
       "1    0.857659  2.890713  0.310611 -0.045326 -4.492495   4.243733  -7.040601   \n",
       "2    8.451138 -9.789632 -3.855225 -1.684923 -3.405300  -8.356691  -7.110621   \n",
       "3    4.218565  1.104390 -2.239445 -1.504301  3.573772 -18.724099   1.837367   \n",
       "4   -9.445192  0.368672 -7.123532 -2.462980  2.651811  -6.460466   4.975422   \n",
       "..        ...       ...       ...       ...       ...        ...        ...   \n",
       "995 -5.429511 -7.116851  2.629224 -3.142956  2.621997  -0.400097   0.836853   \n",
       "996  3.238225  4.557121 -0.463356 -7.809110  3.039680   6.374570  -3.569220   \n",
       "997 -5.087893 -0.279657  1.870682  1.883865 -1.320213  -5.322234  17.375442   \n",
       "998  9.337272  5.613491 -0.188005 -8.060883  3.080424   2.834658   0.478821   \n",
       "999  2.270965  0.355526 -8.975090 -6.109662  6.446929   0.741801   1.810467   \n",
       "\n",
       "            13  \n",
       "0     9.616506  \n",
       "1     2.118858  \n",
       "2     2.457436  \n",
       "3     0.536196  \n",
       "4     4.145147  \n",
       "..         ...  \n",
       "995  -1.590214  \n",
       "996  -3.465001  \n",
       "997  12.751363  \n",
       "998  -5.397598  \n",
       "999  -4.904289  \n",
       "\n",
       "[1000 rows x 14 columns]"
      ]
     },
     "execution_count": 290,
     "metadata": {},
     "output_type": "execute_result"
    }
   ],
   "source": [
    "df_pca = pd.DataFrame(x_train_pca_85)\n",
    "df_pca"
   ]
  },
  {
   "cell_type": "code",
   "execution_count": 291,
   "id": "ccf104c7",
   "metadata": {},
   "outputs": [],
   "source": [
    "# Elbow Method\n",
    "score = []\n",
    "\n",
    "for cluster in range(1,11):\n",
    "    kmeans = KMeans(n_clusters = cluster)\n",
    "    scaled_data = StandardScaler().fit_transform(df_pca)\n",
    "    kmeans.fit(scaled_data)\n",
    "    score.append(kmeans.inertia_)"
   ]
  },
  {
   "cell_type": "code",
   "execution_count": 292,
   "id": "7957b590",
   "metadata": {},
   "outputs": [
    {
     "data": {
      "image/png": "[encoded data removed]",
      "text/plain": [
       "<Figure size 432x288 with 1 Axes>"
      ]
     },
     "metadata": {
      "needs_background": "light"
     },
     "output_type": "display_data"
    }
   ],
   "source": [
    "# plotting the score\n",
    "\n",
    "plt.plot(range(1,11), score)\n",
    "plt.title('The Elbow Method')\n",
    "plt.xlabel('no of clusters')\n",
    "plt.ylabel('wcss')\n",
    "plt.show()"
   ]
  },
  {
   "cell_type": "code",
   "execution_count": 293,
   "id": "6ef458a5",
   "metadata": {},
   "outputs": [
    {
     "data": {
      "image/png": "[encoded data removed]",
      "text/plain": [
       "<Figure size 432x288 with 1 Axes>"
      ]
     },
     "metadata": {
      "needs_background": "light"
     },
     "output_type": "display_data"
    }
   ],
   "source": [
    "# Silhouette score\n",
    "\n",
    "silhouette_coefficients = []\n",
    "from sklearn.metrics import silhouette_score\n",
    "\n",
    "# Notice you start at 2 clusters for silhouette coefficient\n",
    "for k in range(2, 11):\n",
    "    kmeans = KMeans(n_clusters=k)\n",
    "    scaled_data = StandardScaler().fit_transform(df_pca)\n",
    "    kmeans.fit(scaled_data)\n",
    "    score = silhouette_score(scaled_data, kmeans.labels_)\n",
    "    silhouette_coefficients.append(score)\n",
    "    \n",
    "plt.plot(range(2, 11), silhouette_coefficients)\n",
    "plt.xticks(range(2, 11))\n",
    "plt.xlabel(\"Number of Clusters\")\n",
    "plt.ylabel(\"Silhouette Coefficient\")\n",
    "plt.show()"
   ]
  },
  {
   "cell_type": "markdown",
   "id": "91faa167",
   "metadata": {},
   "source": [
    "'Elbow' dan nilai Silhoutter terjadi di k = 3  \n",
    "Berarti, kita bisa berasumsi bahwa k = 3 menjadi 'k' yang paling ideal dalam k-Means ini.\n",
    "##### Jawab: Nilai k yang terbaik berdasarkan Elbow dan Silhouette method adalah k = 3"
   ]
  },
  {
   "cell_type": "code",
   "execution_count": null,
   "id": "ff884797",
   "metadata": {},
   "outputs": [],
   "source": []
  },
  {
   "cell_type": "code",
   "execution_count": null,
   "id": "6af3a630",
   "metadata": {},
   "outputs": [],
   "source": []
  },
  {
   "cell_type": "code",
   "execution_count": null,
   "id": "1c0a133e",
   "metadata": {},
   "outputs": [],
   "source": []
  }
 ],
 "metadata": {
  "kernelspec": {
   "display_name": "Python 3",
   "language": "python",
   "name": "python3"
  },
  "language_info": {
   "codemirror_mode": {
    "name": "ipython",
    "version": 3
   },
   "file_extension": ".py",
   "mimetype": "text/x-python",
   "name": "python",
   "nbconvert_exporter": "python",
   "pygments_lexer": "ipython3",
   "version": "3.7.0"
  }
 },
 "nbformat": 4,
 "nbformat_minor": 5
}
